{
 "cells": [
  {
   "cell_type": "code",
   "execution_count": null,
   "id": "d98ffa19-5dad-4a85-9578-dcfbb4ee9cc0",
   "metadata": {},
   "outputs": [],
   "source": [
    "# One Piece Quiz Game\n",
    "# A simple quiz game testing knowledge of the One Piece anime/manga."
   ]
  },
  {
   "cell_type": "code",
   "execution_count": null,
   "id": "39421401-0ac9-4f33-8e87-c707d16c91af",
   "metadata": {},
   "outputs": [],
   "source": [
    "print(\"Welcome to the One Piece Quiz Game\")\n",
    "\n",
    "user_acceptance = input(\"Do you want to play? \")\n",
    "\n",
    "if user_acceptance.lower() == \"yes\":\n",
    "    name = input(\"Please enter your name? \")\n",
    "    print(\"Welcome\", name)\n",
    "\n",
    "else:\n",
    "    print(\"Thank you! You have a great day\")"
   ]
  },
  {
   "cell_type": "code",
   "execution_count": null,
   "id": "45c06dc2-c968-447c-8726-941de642088d",
   "metadata": {},
   "outputs": [],
   "source": [
    "# Dict used for the game\n",
    "quiz_data = {\n",
    "    \"What type of animal is Tony Tony Chopper?\": \"Reindeer\",\n",
    "    \"What is Luffy's signature move called?\": \"Gomu Gomu\",\n",
    "    \"Who is the Straw Hat's cook?\": \"Vinsmoke Sanji\",\n",
    "    \"Which character is known as God in Skypiea?\": \"Enel\",\n",
    "    \"Which member of the Straw Hats is a cyborg?\": \"Franky\",\n",
    "    \"What is the name of the island where the Straw Hat Luffy spend two years training?\": \"Rusukaina\",\n",
    "    \"Who is the captain of the Heart Pirates?\": \"Trafalgar Law\",\n",
    "    \"What is the name of the ancient weapon that Nico Robin is trying to decipher?\": \"Poneglyph\",\n",
    "    \"Who is the leader of the Revolutionary Army?\": \"Monkey D. Dragon\",\n",
    "    \"What is the name of the legendary Island every pirate is searching for?\": \"Raftel\"\n",
    "}"
   ]
  },
  {
   "cell_type": "code",
   "execution_count": null,
   "id": "f34345e9-906b-44e1-b798-89d6af7a9abe",
   "metadata": {},
   "outputs": [],
   "source": [
    "score = 0\n",
    "questions = len(quiz_data)\n",
    "\n",
    "for question, correct_answer in quiz_data.items():\n",
    "    answer = input(question + \" \")\n",
    "    # .strip().lower() will remove whitespace and convert to lowercase\n",
    "    if answer.lower() == correct_answer.strip().lower(): # This checks if the user's answer matches the correct answer.\n",
    "        print(\"Correct!\")\n",
    "        score += 1 # if the answer is correct, we add 1 to the score.\n",
    "\n",
    "    else:\n",
    "        print(\"Incorrect. The correct answer is\", correct_answer)\n",
    "\n",
    "print(\"You got\", score, \"out of\", questions, \"correct.\")\n",
    "\n",
    "if score >= 9:\n",
    "    print(\"Congratulations you are a master\")\n",
    "\n",
    "elif score >= 7:\n",
    "    print(\"Good Job! You know your stuff\")\n",
    "\n",
    "elif score>= 5:\n",
    "    print(\"Not Bad!\")\n",
    "\n",
    "else:\n",
    "    print(\"You must pay attention while watching the show\")"
   ]
  }
 ],
 "metadata": {
  "kernelspec": {
   "display_name": "Python 3 (ipykernel)",
   "language": "python",
   "name": "python3"
  },
  "language_info": {
   "codemirror_mode": {
    "name": "ipython",
    "version": 3
   },
   "file_extension": ".py",
   "mimetype": "text/x-python",
   "name": "python",
   "nbconvert_exporter": "python",
   "pygments_lexer": "ipython3",
   "version": "3.12.4"
  }
 },
 "nbformat": 4,
 "nbformat_minor": 5
}
